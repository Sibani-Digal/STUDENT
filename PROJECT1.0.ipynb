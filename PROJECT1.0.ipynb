{
 "cells": [
  {
   "cell_type": "markdown",
   "id": "4c293b62",
   "metadata": {},
   "source": [
    "# STUDENT PORTFOLIO"
   ]
  },
  {
   "cell_type": "code",
   "execution_count": 1,
   "id": "d5285ad8",
   "metadata": {},
   "outputs": [
    {
     "name": "stdout",
     "output_type": "stream",
     "text": [
      "*********************************************\n"
     ]
    }
   ],
   "source": [
    "print(\"*\"*45)"
   ]
  },
  {
   "cell_type": "code",
   "execution_count": 3,
   "id": "4d39b348",
   "metadata": {},
   "outputs": [
    {
     "name": "stdout",
     "output_type": "stream",
     "text": [
      "WELCOME\n",
      "Enter Your Name :Sibani Digal\n",
      "Enter Your Class :9\n",
      "Enter Your Section :B\n",
      "Enter Your RollNumber :25\n"
     ]
    }
   ],
   "source": [
    "print(\"WELCOME\")\n",
    "name = str(input(\"Enter Your Name :\"))\n",
    "std = int(input(\"Enter Your Class :\"))\n",
    "sec = str(input(\"Enter Your Section :\"))\n",
    "rollnum =int(input(\"Enter Your RollNumber :\"))"
   ]
  },
  {
   "cell_type": "code",
   "execution_count": 11,
   "id": "2bc7069b",
   "metadata": {},
   "outputs": [
    {
     "name": "stdout",
     "output_type": "stream",
     "text": [
      "SUBJECTS CREDENTIAL\n",
      "***********************************\n"
     ]
    }
   ],
   "source": [
    "print(\"SUBJECTS CREDENTIAL\")\n",
    "print(\"*\"*35)"
   ]
  },
  {
   "cell_type": "code",
   "execution_count": 6,
   "id": "de6b2db2",
   "metadata": {},
   "outputs": [
    {
     "name": "stdout",
     "output_type": "stream",
     "text": [
      "Enter Subject1 :PHYSICS\n",
      "Enter Subject2 :MATHEMATICS\n",
      "Enter Subject3 :COMPUTER\n",
      "Enter Subject1 Score :88\n",
      "Enter Subject2 Score :75\n",
      "Enter Subject3 Score :90\n"
     ]
    }
   ],
   "source": [
    "sub1 = str(input(\"Enter Subject1 :\"))\n",
    "sub2 = str(input(\"Enter Subject2 :\"))\n",
    "sub3 = str(input(\"Enter Subject3 :\"))\n",
    "sub1scr = int(input(\"Enter Subject1 Score :\"))\n",
    "sub2scr = int(input(\"Enter Subject2 Score :\"))\n",
    "sub3scr = int(input(\"Enter Subject3 Score :\"))"
   ]
  },
  {
   "cell_type": "code",
   "execution_count": 7,
   "id": "f5d0e6cb",
   "metadata": {},
   "outputs": [
    {
     "name": "stdout",
     "output_type": "stream",
     "text": [
      "RESULTS\n",
      "*************************\n"
     ]
    }
   ],
   "source": [
    "print(\"RESULTS\")\n",
    "print(\"*\"*25)"
   ]
  },
  {
   "cell_type": "code",
   "execution_count": 8,
   "id": "6d1277a3",
   "metadata": {},
   "outputs": [
    {
     "name": "stdout",
     "output_type": "stream",
     "text": [
      "253\n"
     ]
    }
   ],
   "source": [
    "total = sub1scr+sub2scr+sub3scr\n",
    "print(total)"
   ]
  },
  {
   "cell_type": "code",
   "execution_count": 9,
   "id": "2e92d0b7",
   "metadata": {},
   "outputs": [
    {
     "name": "stdout",
     "output_type": "stream",
     "text": [
      "Net percentage is : 84.33333333333333\n"
     ]
    }
   ],
   "source": [
    "per = total/3\n",
    "print(\"Net percentage is :\",per)"
   ]
  },
  {
   "cell_type": "code",
   "execution_count": 10,
   "id": "a5e39c3c",
   "metadata": {},
   "outputs": [
    {
     "name": "stdout",
     "output_type": "stream",
     "text": [
      "CONGRATULATIONS AND ALL THE BEST FOR FUTURE.\n",
      "**************************************************\n"
     ]
    }
   ],
   "source": [
    "print(\"CONGRATULATIONS AND ALL THE BEST FOR FUTURE.\")\n",
    "print(\"*\"*50)"
   ]
  },
  {
   "cell_type": "code",
   "execution_count": null,
   "id": "9141d8a5",
   "metadata": {},
   "outputs": [],
   "source": []
  }
 ],
 "metadata": {
  "kernelspec": {
   "display_name": "Python 3",
   "language": "python",
   "name": "python3"
  },
  "language_info": {
   "codemirror_mode": {
    "name": "ipython",
    "version": 3
   },
   "file_extension": ".py",
   "mimetype": "text/x-python",
   "name": "python",
   "nbconvert_exporter": "python",
   "pygments_lexer": "ipython3",
   "version": "3.8.8"
  }
 },
 "nbformat": 4,
 "nbformat_minor": 5
}
